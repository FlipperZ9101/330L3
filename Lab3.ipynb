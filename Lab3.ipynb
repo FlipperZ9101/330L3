{
  "nbformat": 4,
  "nbformat_minor": 0,
  "metadata": {
    "colab": {
      "name": "Lab3.ipynb",
      "provenance": [],
      "collapsed_sections": [],
      "toc_visible": true,
      "authorship_tag": "ABX9TyNSUleBbC/cad7+CtSQhxfv",
      "include_colab_link": true
    },
    "kernelspec": {
      "name": "python3",
      "display_name": "Python 3"
    },
    "language_info": {
      "name": "python"
    }
  },
  "cells": [
    {
      "cell_type": "markdown",
      "metadata": {
        "id": "view-in-github",
        "colab_type": "text"
      },
      "source": [
        "<a href=\"https://colab.research.google.com/github/FlipperZ9101/330L3/blob/main/Lab3.ipynb\" target=\"_parent\"><img src=\"https://colab.research.google.com/assets/colab-badge.svg\" alt=\"Open In Colab\"/></a>"
      ]
    },
    {
      "cell_type": "markdown",
      "source": [
        "# Example 1"
      ],
      "metadata": {
        "id": "bqMvcx8zCX81"
      }
    },
    {
      "cell_type": "markdown",
      "source": [
        "Declaring Variables of a pointer-type"
      ],
      "metadata": {
        "id": "UUoFCVB29qyJ"
      }
    },
    {
      "cell_type": "code",
      "execution_count": null,
      "metadata": {
        "colab": {
          "base_uri": "https://localhost:8080/"
        },
        "id": "0wH9aQSj9Wfo",
        "outputId": "32f5037c-bc1a-4615-c64a-1d50f6c652cc"
      },
      "outputs": [
        {
          "output_type": "stream",
          "name": "stdout",
          "text": [
            "Overwriting ex1.cpp\n"
          ]
        }
      ],
      "source": [
        "%%writefile ex1.cpp\n",
        "\n",
        "#include <iostream>\n",
        "using namespace std;\n",
        "int main()\n",
        "{\n",
        "  int firstvalue, secondvalue;\n",
        "  int * mypointer;\n",
        " \n",
        "  mypointer = &firstvalue;\n",
        "  *mypointer = 10;\n",
        " \n",
        "  mypointer = &secondvalue;\n",
        "  *mypointer = 20;\n",
        " \n",
        "  cout << \"firstvalue is \" << firstvalue << endl;\n",
        "  cout << \"secondvalue is \" << secondvalue << endl;\n",
        "  return 0;\n",
        "};"
      ]
    },
    {
      "cell_type": "code",
      "source": [
        "%%script bash\n",
        "\n",
        "g++ -o example1 ex1.cpp\n",
        "./example1"
      ],
      "metadata": {
        "colab": {
          "base_uri": "https://localhost:8080/"
        },
        "id": "iyUlCeEL93TP",
        "outputId": "2225360c-9d6e-445e-d9f4-270c0fdeb6fa"
      },
      "execution_count": null,
      "outputs": [
        {
          "output_type": "stream",
          "name": "stdout",
          "text": [
            "firstvalue is 10\n",
            "secondvalue is 20\n"
          ]
        }
      ]
    },
    {
      "cell_type": "markdown",
      "source": [
        "**What is the output?**\n",
        "The Output of the program will print the values of firstvalue and second value\n",
        "\n",
        "**Can you explain how memory and pointer work?**\n",
        "Memory is sets of blocks used to store information in a CPU, labeled with an address. A Pointer can directly access the information stored at the specific memory it points to, directly refering to the variable through the memory block it was stored in."
      ],
      "metadata": {
        "id": "BnAE1EUE-Rj0"
      }
    },
    {
      "cell_type": "markdown",
      "source": [
        "# Example 2"
      ],
      "metadata": {
        "id": "bSLEIVd2CeWz"
      }
    },
    {
      "cell_type": "markdown",
      "source": [
        "Example 1, but uses pointers to access the values of firstvalue and secondvalue"
      ],
      "metadata": {
        "id": "pOQtZLJBOexU"
      }
    },
    {
      "cell_type": "code",
      "source": [
        "%%writefile ex2.cpp\n",
        "\n",
        "#include <iostream>\n",
        "using namespace std;\n",
        "int main()\n",
        "{\n",
        "  int firstvalue = 5, secondvalue = 15;\n",
        "  int *p1, *p2;\n",
        " \n",
        "  p1 = &firstvalue;\n",
        "  p2 = &secondvalue;\n",
        " \n",
        "  *p1 = 10;\n",
        "  *p2 = *p1;\n",
        " \n",
        "  p1 = p2;\n",
        "  *p1 = 20;\n",
        " \n",
        "  cout << \"firstvalue is \" << firstvalue << endl;\n",
        "  cout << \"secondvalue is \" << secondvalue << endl;\n",
        "  return 0;\n",
        "}"
      ],
      "metadata": {
        "colab": {
          "base_uri": "https://localhost:8080/"
        },
        "id": "mKwzQWae-cQi",
        "outputId": "925434f0-c551-4b66-e2de-278ffda2904d"
      },
      "execution_count": null,
      "outputs": [
        {
          "output_type": "stream",
          "name": "stdout",
          "text": [
            "Overwriting ex2.cpp\n"
          ]
        }
      ]
    },
    {
      "cell_type": "code",
      "source": [
        "%%script bash\n",
        "\n",
        "g++ -o example2 ex2.cpp\n",
        "./example2"
      ],
      "metadata": {
        "colab": {
          "base_uri": "https://localhost:8080/"
        },
        "id": "R3ALOOJp-tQo",
        "outputId": "dab3dc52-d052-4db7-a9f6-b09d8804bde3"
      },
      "execution_count": null,
      "outputs": [
        {
          "output_type": "stream",
          "name": "stdout",
          "text": [
            "firstvalue is 10\n",
            "secondvalue is 20\n"
          ]
        }
      ]
    },
    {
      "cell_type": "markdown",
      "source": [
        "# Example 3"
      ],
      "metadata": {
        "id": "XLunbtm1Cpao"
      }
    },
    {
      "cell_type": "markdown",
      "source": [
        "*Pointers & Arrays*"
      ],
      "metadata": {
        "id": "eB5SDcIOE2rS"
      }
    },
    {
      "cell_type": "markdown",
      "source": [
        "\n",
        "*   Identifier of an array is equivalent to the address of its first element\n",
        "*   Pointer is equivalent to the address of the first element that it points to\n",
        "*   Essentially the same idea\n",
        "*   Bracket sign operators **[ ]** are also a dereference operator known as offset operator\n",
        "*   Dereferences the variable they follow just\n",
        "as * does, but also add the number between brackets to the address being\n",
        "dereferenced\n",
        "\n",
        "\n",
        "\n",
        "\n",
        "\n"
      ],
      "metadata": {
        "id": "0Nnz8Y0NQEJ-"
      }
    },
    {
      "cell_type": "code",
      "source": [
        "%%writefile ex3.cpp\n",
        "\n",
        "#include <iostream>\n",
        "using namespace std;\n",
        "int main()\n",
        "{\n",
        "  int numbers[5];\n",
        "  int *p;\n",
        " \n",
        "  p = numbers; \n",
        "  *p = 10;\n",
        "  p++; \n",
        "  *p = 20;\n",
        " \n",
        "  p = &numbers[2]; \n",
        "  *p = 30;\n",
        "  p = numbers + 3; \n",
        "  *p = 40;\n",
        "  p = numbers; \n",
        "  *(p+4) = 50;\n",
        " \n",
        "  for (int n=0; n<5; n++)\n",
        "  {\n",
        "    cout << numbers[n] << \", \";\n",
        "  }\n",
        "\n",
        "  return 0;\n",
        "}"
      ],
      "metadata": {
        "colab": {
          "base_uri": "https://localhost:8080/"
        },
        "id": "RxCpHa3QE6rj",
        "outputId": "5c2d948c-6662-402c-dcc7-2c79ee4cd16a"
      },
      "execution_count": null,
      "outputs": [
        {
          "output_type": "stream",
          "name": "stdout",
          "text": [
            "Writing ex3.cpp\n"
          ]
        }
      ]
    },
    {
      "cell_type": "code",
      "source": [
        "%%script bash\n",
        "\n",
        "g++ -o example3 ex3.cpp\n",
        "./example3"
      ],
      "metadata": {
        "colab": {
          "base_uri": "https://localhost:8080/"
        },
        "outputId": "67418f6e-2fa0-45ec-b5f6-3cbb56ef58ac",
        "id": "wybevBjBFHIR"
      },
      "execution_count": null,
      "outputs": [
        {
          "output_type": "stream",
          "name": "stdout",
          "text": [
            "10, 20, 30, 40, 50, "
          ]
        }
      ]
    },
    {
      "cell_type": "markdown",
      "source": [
        "# Example 4"
      ],
      "metadata": {
        "id": "TvVa-fhaGKKH"
      }
    },
    {
      "cell_type": "markdown",
      "source": [
        "*Pointer Arithmetic*"
      ],
      "metadata": {
        "id": "HS4rNoBVGlwa"
      }
    },
    {
      "cell_type": "markdown",
      "source": [
        "\n",
        "*   Different than to conduct them on regular integer\n",
        "*   Only addition and subtraction operations are allowed, others make no sense in the world of pointers\n",
        "*   Increase (++) and decrease (--) operators have greater operator precedence\n",
        "than the dereference operator (*)\n",
        "*   Both have a special behavior when used as suffix\n",
        "(the expression is evaluated with the value it had before being increased)"
      ],
      "metadata": {
        "id": "H3iD-cHkPimt"
      }
    },
    {
      "cell_type": "code",
      "source": [
        "%%writefile ex41.cpp\n",
        "\n",
        "#include <iostream>\n",
        "using namespace std;\n",
        "int main() \n",
        "{\n",
        "  char shahnaz, mahnaz;\n",
        "  char *p = &shahnaz;\n",
        "  char *q = &mahnaz;\n",
        " \n",
        "  *p = 'h';\n",
        "  *q = *(p++);\n",
        " \n",
        "  cout << \"p = \" << *p << endl;\n",
        "  cout << \"shahnaz = \" << shahnaz << endl;\n",
        "  cout << \"q = \"<< *q << endl;\n",
        "  return 0; \n",
        "}"
      ],
      "metadata": {
        "colab": {
          "base_uri": "https://localhost:8080/"
        },
        "id": "We8hQX9QGojm",
        "outputId": "11072517-dcc5-45c7-ae17-54eb73c20c98"
      },
      "execution_count": null,
      "outputs": [
        {
          "output_type": "stream",
          "name": "stdout",
          "text": [
            "Writing ex41.cpp\n"
          ]
        }
      ]
    },
    {
      "cell_type": "code",
      "source": [
        "%%writefile ex42.cpp\n",
        "\n",
        "#include <iostream>\n",
        "using namespace std;\n",
        "\n",
        "int main()\n",
        "{\n",
        "  int i,j,k;\n",
        "  i = 10;\n",
        "  j = i++;\n",
        "  k = i++;\n",
        "  cout << \"i=\" << i << endl;\n",
        "  cout << \"j=\" << j << endl;\n",
        "  cout << \"k=\" << k << endl;\n",
        "  return 0;\n",
        "}"
      ],
      "metadata": {
        "colab": {
          "base_uri": "https://localhost:8080/"
        },
        "id": "ElAE8iF7NRz_",
        "outputId": "9a5a555a-c2c5-4b20-afc8-01c196607c6f"
      },
      "execution_count": null,
      "outputs": [
        {
          "output_type": "stream",
          "name": "stdout",
          "text": [
            "Writing ex42.cpp\n"
          ]
        }
      ]
    },
    {
      "cell_type": "code",
      "source": [
        "%%script bash\n",
        "\n",
        "g++ -o example41 ex41.cpp\n",
        "g++ -o example42 ex42.cpp\n",
        "./example41\n",
        "./example42"
      ],
      "metadata": {
        "colab": {
          "base_uri": "https://localhost:8080/"
        },
        "id": "WMTIJcGTH7BJ",
        "outputId": "b4f50f23-61b1-4ecf-8bfe-dbe44a4902cc"
      },
      "execution_count": null,
      "outputs": [
        {
          "output_type": "stream",
          "name": "stdout",
          "text": [
            "p = h\n",
            "shahnaz = h\n",
            "q = h\n",
            "i=12\n",
            "j=10\n",
            "k=11\n"
          ]
        }
      ]
    },
    {
      "cell_type": "markdown",
      "source": [
        "# Example 5"
      ],
      "metadata": {
        "id": "FypcSb1iIn2c"
      }
    },
    {
      "cell_type": "markdown",
      "source": [
        "*Void Pointers*"
      ],
      "metadata": {
        "id": "Amanf9WCIp3X"
      }
    },
    {
      "cell_type": "markdown",
      "source": [
        "\n",
        "\n",
        "*   Represents absense of a type, points to a value with no type\n",
        "*   Can point to any data type\n",
        "*   Any data pointed by them cannot be directly dereferenced\n",
        "*   Always have to cast the address in the void\n",
        "pointer to some other pointer type before dereferencing\n",
        "\n",
        "\n",
        "\n"
      ],
      "metadata": {
        "id": "FNIYMpOGLww_"
      }
    },
    {
      "cell_type": "code",
      "source": [
        "%%writefile ex5.cpp\n",
        "\n",
        "#include <iostream>\n",
        "using namespace std;\n",
        "\n",
        "void increase(void* data, int psize)\n",
        "{\n",
        "  if (psize == sizeof(char))\n",
        "  { \n",
        "      char* pchar; \n",
        "      pchar=(char*)data; \n",
        "      ++(*pchar); \n",
        "  }\n",
        "  else if (psize == sizeof(int))\n",
        "  { \n",
        "      int* pint; \n",
        "      pint=(int*)data; \n",
        "      ++(*pint); \n",
        "  }\n",
        "}\n",
        "\n",
        "int main ()\n",
        "{\n",
        "  char a = 'x';\n",
        "  int b = 1602;\n",
        " \n",
        "  increase(&a,sizeof(a));\n",
        "  increase(&b,sizeof(b));\n",
        " \n",
        "  cout << a << \", \" << b << endl;\n",
        "  return 0;\n",
        "}"
      ],
      "metadata": {
        "colab": {
          "base_uri": "https://localhost:8080/"
        },
        "id": "QFpYJlRlIrFd",
        "outputId": "be678d22-78ab-4a8c-ff76-427494dda438"
      },
      "execution_count": null,
      "outputs": [
        {
          "output_type": "stream",
          "name": "stdout",
          "text": [
            "Writing ex5.cpp\n"
          ]
        }
      ]
    },
    {
      "cell_type": "code",
      "source": [
        "%%script bash\n",
        "\n",
        "g++ -o example5 ex5.cpp\n",
        "./example5"
      ],
      "metadata": {
        "colab": {
          "base_uri": "https://localhost:8080/"
        },
        "id": "xo0mdOWCJfIn",
        "outputId": "1fb28b51-719f-463d-c370-eb818d7c0b12"
      },
      "execution_count": null,
      "outputs": [
        {
          "output_type": "stream",
          "name": "stdout",
          "text": [
            "y, 1603\n"
          ]
        }
      ]
    },
    {
      "cell_type": "markdown",
      "source": [
        "# Example 6"
      ],
      "metadata": {
        "id": "wpxi2fMnOzC7"
      }
    },
    {
      "cell_type": "markdown",
      "source": [
        "Null Pointers"
      ],
      "metadata": {
        "id": "xIdMiEv8O_es"
      }
    },
    {
      "cell_type": "code",
      "source": [
        "int * p;\n",
        "p = 0; // p has a null pointer value"
      ],
      "metadata": {
        "id": "kVyA2nl0PFwQ"
      },
      "execution_count": null,
      "outputs": []
    },
    {
      "cell_type": "markdown",
      "source": [
        "# Example 7"
      ],
      "metadata": {
        "id": "i7S0qQUyJcCF"
      }
    },
    {
      "cell_type": "markdown",
      "source": [
        "*Pointers to Functions*"
      ],
      "metadata": {
        "id": "cN6h-NT8J2YM"
      }
    },
    {
      "cell_type": "markdown",
      "source": [
        "\n",
        "\n",
        "*   Typically used for passing functions as an argument for other functions\n",
        "*   Has to be declared similarly to a prototype of a function (name of the function is enclosed between parentheses () and an\n",
        "asterisk (*) is inserted before the name)"
      ],
      "metadata": {
        "id": "X1m5wW8OK-Ai"
      }
    },
    {
      "cell_type": "code",
      "source": [
        "%%writefile ex7.cpp\n",
        "\n",
        "#include <iostream>\n",
        "using namespace std;\n",
        "\n",
        "int addition(int a, int b)\n",
        "{ \n",
        "    return (a+b); \n",
        "}\n",
        "\n",
        "int subtraction(int a, int b)\n",
        "{ \n",
        "    return (a-b); \n",
        "}\n",
        "\n",
        "int operation(int x, int y, int(*functocall)(int,int))\n",
        "{\n",
        "  int g;\n",
        "  g = (*functocall)(x,y);\n",
        "  return (g);\n",
        "}\n",
        "\n",
        "int main ()\n",
        "{\n",
        "  int m,n;\n",
        "  int (*minus)(int,int) = subtraction;\n",
        "  m = operation(7, 5, addition);\n",
        "  n = operation(20, m, minus);\n",
        "  cout << n;\n",
        "  return 0;\n",
        "}"
      ],
      "metadata": {
        "colab": {
          "base_uri": "https://localhost:8080/"
        },
        "id": "q6q-KeIAJ4SS",
        "outputId": "0aa507e5-c044-483f-b87f-c42f4033c9df"
      },
      "execution_count": null,
      "outputs": [
        {
          "output_type": "stream",
          "name": "stdout",
          "text": [
            "Writing ex7.cpp\n"
          ]
        }
      ]
    },
    {
      "cell_type": "code",
      "source": [
        "%%script bash\n",
        "\n",
        "g++ -o example7 ex7.cpp\n",
        "./example7"
      ],
      "metadata": {
        "colab": {
          "base_uri": "https://localhost:8080/"
        },
        "id": "Ww7UcovhKVvM",
        "outputId": "22f9af8b-3e17-41c9-b961-dc776ee1d8bf"
      },
      "execution_count": null,
      "outputs": [
        {
          "output_type": "stream",
          "name": "stdout",
          "text": [
            "8"
          ]
        }
      ]
    }
  ]
}